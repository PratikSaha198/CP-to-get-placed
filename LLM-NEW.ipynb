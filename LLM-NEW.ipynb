{
 "cells": [
  {
   "cell_type": "code",
   "execution_count": 1,
   "metadata": {},
   "outputs": [],
   "source": [
    "# !pip install langchain deeplake openai tiktoken"
   ]
  },
  {
   "cell_type": "code",
   "execution_count": 12,
   "metadata": {},
   "outputs": [],
   "source": [
    "import os\n",
    "import getpass\n",
    "from langchain.document_loaders import TextLoader\n",
    "\n",
    "from langchain.text_splitter import CharacterTextSplitter\n",
    "from langchain.embeddings.openai import OpenAIEmbeddings\n",
    "from langchain.vectorstores import DeepLake\n",
    "from langchain.chat_models import ChatOpenAI\n",
    "from langchain.chains import ConversationalRetrievalChain\n",
    "\n",
    "# Setting the OPENAI KEY and ACTIVE LOOP Vector DB\n",
    "\n",
    "os.environ[\"OPENAI_API_KEY\"] = \"\"\n",
    "os.environ[\"ACTIVELOOP_TOKEN\"] = \"\""
   ]
  },
  {
   "cell_type": "code",
   "execution_count": 2,
   "metadata": {},
   "outputs": [],
   "source": [
    "# disallowed_special=() is required to avoid Exception: 'utf-8' codec\n",
    "\n",
    "embeddings = OpenAIEmbeddings(disallowed_special=())"
   ]
  },
  {
   "cell_type": "code",
   "execution_count": 5,
   "metadata": {},
   "outputs": [],
   "source": [
    "# Cloning a REPO\n",
    "# git clone https://github.com/nazfisa/CRUD-Operation-Using-SpringMVC-RESTAPI/tree/master\n",
    "\n",
    "# Load all files inside the repository\n",
    "\n",
    "root_dir = \"./Simple-SpringFramework-Application\"\n",
    "docs = []\n",
    "for dirpath, dirnames, filenames in os.walk(root_dir):\n",
    "    for file in filenames:\n",
    "        try:\n",
    "            loader = TextLoader(os.path.join(dirpath, file), encoding=\"utf-8\")\n",
    "            docs.extend(loader.load_and_split())\n",
    "        except Exception as e:\n",
    "            pass"
   ]
  },
  {
   "cell_type": "code",
   "execution_count": 7,
   "metadata": {},
   "outputs": [],
   "source": [
    "# Chunking all files\n",
    "\n",
    "text_splitter = CharacterTextSplitter(chunk_size=1000, chunk_overlap=0)\n",
    "texts = text_splitter.split_documents(docs)"
   ]
  },
  {
   "cell_type": "code",
   "execution_count": 9,
   "metadata": {},
   "outputs": [
    {
     "name": "stdout",
     "output_type": "stream",
     "text": [
      "Your Deep Lake dataset has been successfully created!\n"
     ]
    },
    {
     "name": "stderr",
     "output_type": "stream",
     "text": [
      "creating embeddings: 100%|██████████| 7/7 [00:18<00:00,  2.62s/it]\n",
      "100%|██████████| 87/87 [00:04<00:00, 18.63it/s]\n",
      " \r"
     ]
    },
    {
     "name": "stdout",
     "output_type": "stream",
     "text": [
      "Dataset(path='hub://pratik/simple-springframework-app', tensors=['text', 'metadata', 'embedding', 'id'])\n",
      "\n",
      "  tensor      htype      shape      dtype  compression\n",
      "  -------    -------    -------    -------  ------- \n",
      "   text       text      (87, 1)      str     None   \n",
      " metadata     json      (87, 1)      str     None   \n",
      " embedding  embedding  (87, 1536)  float32   None   \n",
      "    id        text      (87, 1)      str     None   \n"
     ]
    },
    {
     "data": {
      "text/plain": [
       "['c8a038fa-6458-11ee-b60b-c03c592e8a14',\n",
       " 'c8a038fb-6458-11ee-98a7-c03c592e8a14',\n",
       " 'c8a038fc-6458-11ee-b082-c03c592e8a14',\n",
       " 'c8a038fd-6458-11ee-b8f9-c03c592e8a14',\n",
       " 'c8a038fe-6458-11ee-9aea-c03c592e8a14',\n",
       " 'c8a038ff-6458-11ee-8297-c03c592e8a14',\n",
       " 'c8a03900-6458-11ee-9092-c03c592e8a14',\n",
       " 'c8a03901-6458-11ee-bdca-c03c592e8a14',\n",
       " 'c8a03902-6458-11ee-a0b8-c03c592e8a14',\n",
       " 'c8a03903-6458-11ee-9f19-c03c592e8a14',\n",
       " 'c8a03904-6458-11ee-99ea-c03c592e8a14',\n",
       " 'c8a03905-6458-11ee-bac4-c03c592e8a14',\n",
       " 'c8a03906-6458-11ee-b229-c03c592e8a14',\n",
       " 'c8a03907-6458-11ee-b51c-c03c592e8a14',\n",
       " 'c8a03908-6458-11ee-9369-c03c592e8a14',\n",
       " 'c8a03909-6458-11ee-bdf0-c03c592e8a14',\n",
       " 'c8a0390a-6458-11ee-9e80-c03c592e8a14',\n",
       " 'c8a0390b-6458-11ee-96ea-c03c592e8a14',\n",
       " 'c8a0390c-6458-11ee-a556-c03c592e8a14',\n",
       " 'c8a0390d-6458-11ee-b910-c03c592e8a14',\n",
       " 'c8a0390e-6458-11ee-ba1e-c03c592e8a14',\n",
       " 'c8a0390f-6458-11ee-8dfa-c03c592e8a14',\n",
       " 'c8a03910-6458-11ee-a04c-c03c592e8a14',\n",
       " 'c8a03911-6458-11ee-88e9-c03c592e8a14',\n",
       " 'c8a03912-6458-11ee-9209-c03c592e8a14',\n",
       " 'c8a03913-6458-11ee-88f1-c03c592e8a14',\n",
       " 'c8a03914-6458-11ee-b05f-c03c592e8a14',\n",
       " 'c8a03915-6458-11ee-8611-c03c592e8a14',\n",
       " 'c8a03916-6458-11ee-a793-c03c592e8a14',\n",
       " 'c8a03917-6458-11ee-b329-c03c592e8a14',\n",
       " 'c8a03918-6458-11ee-9008-c03c592e8a14',\n",
       " 'c8a03919-6458-11ee-bf2f-c03c592e8a14',\n",
       " 'c8a0391a-6458-11ee-ba39-c03c592e8a14',\n",
       " 'c8a0391b-6458-11ee-a215-c03c592e8a14',\n",
       " 'c8a0391c-6458-11ee-bee5-c03c592e8a14',\n",
       " 'c8a0391d-6458-11ee-ad21-c03c592e8a14',\n",
       " 'c8a0391e-6458-11ee-b3da-c03c592e8a14',\n",
       " 'c8a0391f-6458-11ee-a685-c03c592e8a14',\n",
       " 'c8a03920-6458-11ee-b9bd-c03c592e8a14',\n",
       " 'c8a03921-6458-11ee-8967-c03c592e8a14',\n",
       " 'c8a03922-6458-11ee-93d9-c03c592e8a14',\n",
       " 'c8a03923-6458-11ee-8652-c03c592e8a14',\n",
       " 'c8a03924-6458-11ee-aeb5-c03c592e8a14',\n",
       " 'c8a03925-6458-11ee-84b8-c03c592e8a14',\n",
       " 'c8a03926-6458-11ee-b986-c03c592e8a14',\n",
       " 'c8a03927-6458-11ee-b66e-c03c592e8a14',\n",
       " 'c8a03928-6458-11ee-abc6-c03c592e8a14',\n",
       " 'c8a03929-6458-11ee-9521-c03c592e8a14',\n",
       " 'c8a0392a-6458-11ee-9e37-c03c592e8a14',\n",
       " 'c8a0392b-6458-11ee-a3d3-c03c592e8a14',\n",
       " 'c8a0392c-6458-11ee-8671-c03c592e8a14',\n",
       " 'c8a0392d-6458-11ee-96a4-c03c592e8a14',\n",
       " 'c8a0392e-6458-11ee-9bc9-c03c592e8a14',\n",
       " 'c8a0392f-6458-11ee-943c-c03c592e8a14',\n",
       " 'c8a03930-6458-11ee-a718-c03c592e8a14',\n",
       " 'c8a03931-6458-11ee-a8fc-c03c592e8a14',\n",
       " 'c8a03932-6458-11ee-ba6e-c03c592e8a14',\n",
       " 'c8a03933-6458-11ee-8d16-c03c592e8a14',\n",
       " 'c8a03934-6458-11ee-bddc-c03c592e8a14',\n",
       " 'c8a03935-6458-11ee-a35c-c03c592e8a14',\n",
       " 'c8a03936-6458-11ee-9e87-c03c592e8a14',\n",
       " 'c8a03937-6458-11ee-9c55-c03c592e8a14',\n",
       " 'c8a03938-6458-11ee-b761-c03c592e8a14',\n",
       " 'c8a03939-6458-11ee-a15d-c03c592e8a14',\n",
       " 'c8a0393a-6458-11ee-90ab-c03c592e8a14',\n",
       " 'c8a0393b-6458-11ee-83fc-c03c592e8a14',\n",
       " 'c8a0393c-6458-11ee-b385-c03c592e8a14',\n",
       " 'c8a0393d-6458-11ee-bac8-c03c592e8a14',\n",
       " 'c8a0393e-6458-11ee-a31d-c03c592e8a14',\n",
       " 'c8a0393f-6458-11ee-ba9f-c03c592e8a14',\n",
       " 'c8a03940-6458-11ee-80e6-c03c592e8a14',\n",
       " 'c8a03941-6458-11ee-85f8-c03c592e8a14',\n",
       " 'c8a03942-6458-11ee-ae0f-c03c592e8a14',\n",
       " 'c8a03943-6458-11ee-b5c4-c03c592e8a14',\n",
       " 'c8a03944-6458-11ee-9986-c03c592e8a14',\n",
       " 'c8a03945-6458-11ee-ad74-c03c592e8a14',\n",
       " 'c8a03946-6458-11ee-b4ca-c03c592e8a14',\n",
       " 'c8a03947-6458-11ee-b23e-c03c592e8a14',\n",
       " 'c8a03948-6458-11ee-aac3-c03c592e8a14',\n",
       " 'c8a03949-6458-11ee-a804-c03c592e8a14',\n",
       " 'c8a0394a-6458-11ee-8012-c03c592e8a14',\n",
       " 'c8a0394b-6458-11ee-a729-c03c592e8a14',\n",
       " 'c8a0394c-6458-11ee-9f96-c03c592e8a14',\n",
       " 'c8a0394d-6458-11ee-b4fe-c03c592e8a14',\n",
       " 'c8a0394e-6458-11ee-b786-c03c592e8a14',\n",
       " 'c8a0394f-6458-11ee-9552-c03c592e8a14',\n",
       " 'c8a03950-6458-11ee-8f9c-c03c592e8a14']"
      ]
     },
     "execution_count": 9,
     "metadata": {},
     "output_type": "execute_result"
    }
   ],
   "source": [
    "# Executing Indexing - computes embeddings and uploads to Activeloop \n",
    "\n",
    "username = \"pratik\"  \n",
    "db = DeepLake(\n",
    "    dataset_path=f\"hub://{username}/simple-springframework-app\",\n",
    "    embedding=embeddings,\n",
    ")\n",
    "db.add_documents(texts)"
   ]
  },
  {
   "cell_type": "code",
   "execution_count": 25,
   "metadata": {},
   "outputs": [
    {
     "name": "stdout",
     "output_type": "stream",
     "text": [
      "Deep Lake Dataset in hub://pratik/simple-springframework-app already exists, loading from the storage\n"
     ]
    }
   ],
   "source": [
    "# Loading the dataset\n",
    "\n",
    "db = DeepLake(\n",
    "    dataset_path=f\"hub://{username}/simple-springframework-app\",\n",
    "    read_only=True,\n",
    "    embedding=embeddings,\n",
    ")"
   ]
  },
  {
   "cell_type": "code",
   "execution_count": 26,
   "metadata": {},
   "outputs": [],
   "source": [
    "# Constructing the retriever\n",
    "\n",
    "retriever = db.as_retriever()\n",
    "retriever.search_kwargs[\"distance_metric\"] = \"cos\"\n",
    "retriever.search_kwargs[\"fetch_k\"] = 100\n",
    "retriever.search_kwargs[\"maximal_marginal_relevance\"] = True\n",
    "retriever.search_kwargs[\"k\"] = 10"
   ]
  },
  {
   "cell_type": "code",
   "execution_count": 27,
   "metadata": {},
   "outputs": [],
   "source": [
    "# Constructing the Conversational Chain\n",
    "\n",
    "model = ChatOpenAI(model_name=\"gpt-3.5-turbo\")  # switch to 'gpt-4'\n",
    "qa = ConversationalRetrievalChain.from_llm(model, retriever=retriever)"
   ]
  },
  {
   "cell_type": "code",
   "execution_count": null,
   "metadata": {},
   "outputs": [],
   "source": [
    "chat_history = []"
   ]
  },
  {
   "cell_type": "code",
   "execution_count": 32,
   "metadata": {},
   "outputs": [
    {
     "name": "stdout",
     "output_type": "stream",
     "text": [
      "-> **Question**: What is the SpringBoot version of this SrpingFramework dependency 'spring-webmvc'? \n",
      "\n",
      "**Answer**: The provided POM file does not contain any dependencies related to Spring Boot. Therefore, it is not possible to determine the Spring Boot version of the 'spring-webmvc' dependency based on the given information. \n",
      "\n"
     ]
    }
   ],
   "source": [
    "questions = [\n",
    "    \"What is the SpringBoot version of this SrpingFramework dependency 'spring-webmvc'?\"\n",
    "]\n",
    "\n",
    "for question in questions:\n",
    "    result = qa({\"question\": question, \"chat_history\": chat_history})\n",
    "    chat_history.append((question, result[\"answer\"]))\n",
    "    print(f\"-> **Question**: {question} \\n\")\n",
    "    print(f\"**Answer**: {result['answer']} \\n\")"
   ]
  },
  {
   "cell_type": "code",
   "execution_count": null,
   "metadata": {},
   "outputs": [],
   "source": []
  }
 ],
 "metadata": {
  "kernelspec": {
   "display_name": "Python 3.9.6 64-bit",
   "language": "python",
   "name": "python3"
  },
  "language_info": {
   "codemirror_mode": {
    "name": "ipython",
    "version": 3
   },
   "file_extension": ".py",
   "mimetype": "text/x-python",
   "name": "python",
   "nbconvert_exporter": "python",
   "pygments_lexer": "ipython3",
   "version": "3.9.6"
  },
  "orig_nbformat": 4,
  "vscode": {
   "interpreter": {
    "hash": "81794d4967e6c3204c66dcd87b604927b115b27c00565d3d43f05ba2f3a2cb0d"
   }
  }
 },
 "nbformat": 4,
 "nbformat_minor": 2
}
